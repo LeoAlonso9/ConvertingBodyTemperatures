{
 "cells": [
  {
   "cell_type": "code",
   "execution_count": 20,
   "id": "609db858",
   "metadata": {},
   "outputs": [],
   "source": [
    "# celsius to fahrenheit\n",
    "def Celsius_to_Fahrenheit(Celsius):\n",
    "    return(Celsius * 9/5) + 32\n",
    "\n",
    "#fahrenheit to celsius\n",
    "def Fahrenheit_to_Celsius(Fahrenheit):\n",
    "    return (Fahrenheit - 32) *5/9"
   ]
  },
  {
   "cell_type": "code",
   "execution_count": 25,
   "id": "d69f08c8",
   "metadata": {
    "scrolled": true
   },
   "outputs": [
    {
     "name": "stdout",
     "output_type": "stream",
     "text": [
      "Choose the conversion direction.\n",
      "Put C for Celsius to Fahrenheit or F for Fahrenheit to Celsius.\n",
      "Enter your choice: F\n",
      "Enter the temperature: 100\n",
      "100.0 degrees Fahrenheit is 37.77777777777778 degrees Celsius)\n"
     ]
    }
   ],
   "source": [
    "# setting dictionary to mapping the user input to the function\n",
    "conversion_features = {\n",
    "    'C': Celsius_to_Fahrenheit,\n",
    "    'F': Fahrenheit_to_Celsius\n",
    "}\n",
    "\n",
    "print (\"Choose the conversion direction.\")\n",
    "print (\"Put C for Celsius to Fahrenheit or F for Fahrenheit to Celsius.\")\n",
    "\n",
    "choice = input(\"Enter your choice: \")\n",
    "\n",
    "if choice in conversion_features: \n",
    "    temperature = float(input(\"Enter the temperature: \"))\n",
    "    \n",
    "    # Conversion\n",
    "    converted_temperature = conversion_features[choice](temperature)\n",
    "    \n",
    "    print(f\"{temperature} degrees {'Celsius' if choice == 'c' else 'Fahrenheit'} is {converted_temperature} degrees {'Fahrenheit' if choice == 'c' else 'Celsius'})\")\n",
    "\n",
    "else:\n",
    "    print(\"This was not a valid input. Please enter a C or a F.\")\n",
    "          "
   ]
  },
  {
   "cell_type": "code",
   "execution_count": null,
   "id": "157f8995",
   "metadata": {},
   "outputs": [],
   "source": []
  }
 ],
 "metadata": {
  "kernelspec": {
   "display_name": "Python 3 (ipykernel)",
   "language": "python",
   "name": "python3"
  },
  "language_info": {
   "codemirror_mode": {
    "name": "ipython",
    "version": 3
   },
   "file_extension": ".py",
   "mimetype": "text/x-python",
   "name": "python",
   "nbconvert_exporter": "python",
   "pygments_lexer": "ipython3",
   "version": "3.11.4"
  }
 },
 "nbformat": 4,
 "nbformat_minor": 5
}
